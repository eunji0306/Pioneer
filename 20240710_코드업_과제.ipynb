{
  "nbformat": 4,
  "nbformat_minor": 0,
  "metadata": {
    "colab": {
      "provenance": [],
      "authorship_tag": "ABX9TyOJdt8blBuVuM3mAaz1tQG0",
      "include_colab_link": true
    },
    "kernelspec": {
      "name": "python3",
      "display_name": "Python 3"
    },
    "language_info": {
      "name": "python"
    }
  },
  "cells": [
    {
      "cell_type": "markdown",
      "metadata": {
        "id": "view-in-github",
        "colab_type": "text"
      },
      "source": [
        "<a href=\"https://colab.research.google.com/github/eunji0306/Pioneer/blob/master/20240710_%EC%BD%94%EB%93%9C%EC%97%85_%EA%B3%BC%EC%A0%9C.ipynb\" target=\"_parent\"><img src=\"https://colab.research.google.com/assets/colab-badge.svg\" alt=\"Open In Colab\"/></a>"
      ]
    },
    {
      "cell_type": "code",
      "execution_count": null,
      "metadata": {
        "colab": {
          "base_uri": "https://localhost:8080/"
        },
        "id": "yUIU-7ae6JSv",
        "outputId": "b72302b4-d177-4c95-d903-1f96a699eaa4"
      },
      "outputs": [
        {
          "output_type": "stream",
          "name": "stdout",
          "text": [
            "10\n",
            "1 3 2 2 5 6 7 4 5 9\n",
            "1 2 1 1 2 1 1 0 1 0 0 0 0 0 0 0 0 0 0 0 0 0 0 "
          ]
        }
      ],
      "source": [
        "#codeup 6092\n",
        "n=int(input())\n",
        "a=list(input().split())\n",
        "\n",
        "for i in range(n):\n",
        "    a[i]=int(a[i])\n",
        "\n",
        "d=[]\n",
        "for i in range(0, 24, 1):\n",
        "    d.append(0)\n",
        "\n",
        "for i in range(n):\n",
        "    d[a[i]]+=1\n",
        "\n",
        "for i in range(1, 24):\n",
        "    print(d[i], end=' ')"
      ]
    },
    {
      "cell_type": "code",
      "source": [
        "#codeup 6093\n",
        "n=int(input())\n",
        "a=list(input().split())\n",
        "\n",
        "for i in range(n-1, -1, -1):\n",
        "  print(a[i], end=' ')"
      ],
      "metadata": {
        "colab": {
          "base_uri": "https://localhost:8080/"
        },
        "id": "BiJ3qcrs6UgL",
        "outputId": "99fe6e8c-1673-44b3-ea1c-1d984ea84944"
      },
      "execution_count": null,
      "outputs": [
        {
          "output_type": "stream",
          "name": "stdout",
          "text": [
            "10\n",
            "10 4 2 3 6 6 7 9 8 5\n",
            "5 8 9 7 6 6 3 2 4 10 "
          ]
        }
      ]
    },
    {
      "cell_type": "code",
      "source": [
        "#codeup 6094\n",
        "n=int(input())\n",
        "a=list(map(int, input().split()))\n",
        "\n",
        "a.sort()\n",
        "print(a[0])"
      ],
      "metadata": {
        "colab": {
          "base_uri": "https://localhost:8080/"
        },
        "id": "DZDNBtcE6WPR",
        "outputId": "3ce96a17-654c-4f7b-faa5-ee09fde0665d"
      },
      "execution_count": null,
      "outputs": [
        {
          "output_type": "stream",
          "name": "stdout",
          "text": [
            "10\n",
            "10 4 2 3 6 6 7 9 8 5\n",
            "2\n"
          ]
        }
      ]
    },
    {
      "cell_type": "code",
      "source": [
        "#codeup 6098\n",
        "miro=[]\n",
        "x=1\n",
        "y=1\n",
        "\n",
        "for i in range(10):\n",
        "    miro.append(list(map(int, input().split())))\n",
        "\n",
        "while True:\n",
        "    if miro[x][y]==0:\n",
        "      miro[x][y]=9\n",
        "\n",
        "    elif miro[x][y]==2:\n",
        "      miro[x][y]=9\n",
        "      break\n",
        "\n",
        "    if miro[x][y+1]==0 or miro[x][y+1]==2:\n",
        "        y+=1\n",
        "\n",
        "    elif miro[x+1][y]==0 or miro [x+1][y]==2:\n",
        "        x+=1\n",
        "\n",
        "    else:\n",
        "        break\n",
        "\n",
        "for i in range(10):\n",
        "    for j in range(10):\n",
        "        print(miro[i][j], end=' ')\n",
        "    print()"
      ],
      "metadata": {
        "colab": {
          "base_uri": "https://localhost:8080/"
        },
        "id": "tKySD2f76Yhr",
        "outputId": "d5f252a9-b7b0-41c3-ee21-c5f96a3b915c"
      },
      "execution_count": null,
      "outputs": [
        {
          "output_type": "stream",
          "name": "stdout",
          "text": [
            "1 1 1 1 1 1 1 1 1 1\n",
            "1 0 0 1 0 0 0 0 0 1\n",
            "1 0 0 1 1 1 0 0 0 1\n",
            "1 0 0 0 0 0 0 1 0 1\n",
            "1 0 0 0 0 0 0 1 0 1\n",
            "1 0 0 0 0 1 0 1 0 1\n",
            "1 0 0 0 0 1 2 1 0 1\n",
            "1 0 0 0 0 1 0 0 0 1\n",
            "1 0 0 0 0 0 0 0 0 1\n",
            "1 1 1 1 1 1 1 1 1 1\n",
            "1 1 1 1 1 1 1 1 1 1 \n",
            "1 9 9 1 0 0 0 0 0 1 \n",
            "1 0 9 1 1 1 0 0 0 1 \n",
            "1 0 9 9 9 9 9 1 0 1 \n",
            "1 0 0 0 0 0 9 1 0 1 \n",
            "1 0 0 0 0 1 9 1 0 1 \n",
            "1 0 0 0 0 1 9 1 0 1 \n",
            "1 0 0 0 0 1 0 0 0 1 \n",
            "1 0 0 0 0 0 0 0 0 1 \n",
            "1 1 1 1 1 1 1 1 1 1 \n"
          ]
        }
      ]
    }
  ]
}